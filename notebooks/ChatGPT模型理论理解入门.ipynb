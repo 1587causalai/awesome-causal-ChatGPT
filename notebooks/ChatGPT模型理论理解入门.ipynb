{
 "cells": [
  {
   "cell_type": "markdown",
   "source": [
    "# ChatGPT模型理论入门\n",
    "\n",
    "如果我把 ChatGPT 真心当成人类最伟大的科学发现之一，不好好搞懂它的原理实在是遗憾可惜，我不能接受，所以来一个10个小时入门 ChatGPT 原理吧。\n",
    "\n",
    "First, 输出才是最好的学习：\n",
    "- ppt [link](https://1drv.ms/p/s!Amn8yDdhAmsRd_Q19yYbTuuHEFc?e=TJAXIS)\n",
    "- 飞书文档 [link](https://g289c5rl0u.feishu.cn/docx/XR9EdhsvboDJXFxZ90ycKfDmnOe)\n",
    "\n",
    "Second, 番茄工作法，约10h。\n",
    "\n"
   ],
   "metadata": {
    "collapsed": false
   }
  },
  {
   "cell_type": "code",
   "execution_count": null,
   "outputs": [],
   "source": [],
   "metadata": {
    "collapsed": false
   }
  }
 ],
 "metadata": {
  "kernelspec": {
   "display_name": "Python 3",
   "language": "python",
   "name": "python3"
  },
  "language_info": {
   "codemirror_mode": {
    "name": "ipython",
    "version": 2
   },
   "file_extension": ".py",
   "mimetype": "text/x-python",
   "name": "python",
   "nbconvert_exporter": "python",
   "pygments_lexer": "ipython2",
   "version": "2.7.6"
  }
 },
 "nbformat": 4,
 "nbformat_minor": 0
}
