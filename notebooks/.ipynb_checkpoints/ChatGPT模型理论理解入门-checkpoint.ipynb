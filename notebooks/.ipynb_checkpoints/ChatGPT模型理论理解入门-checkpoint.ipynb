{
 "cells": [
  {
   "cell_type": "markdown",
   "metadata": {},
   "source": [
    "# ChatGPT模型理论入门\n",
    "\n",
    "如果我把 ChatGPT 真心当成人类最伟大的科学发现之一，不好好搞懂它的原理实在是遗憾可惜，我不能接受，所以来一个10个小时入门 ChatGPT 原理吧。\n",
    "\n",
    "First, 输出才是最好的学习：\n",
    "- ppt [link](https://1drv.ms/p/s!Amn8yDdhAmsRd_Q19yYbTuuHEFc?e=TJAXIS)\n",
    "- 飞书文档 [link](https://g289c5rl0u.feishu.cn/docx/XR9EdhsvboDJXFxZ90ycKfDmnOe)\n",
    "\n",
    "Second, 番茄工作法，约10h。\n",
    "\n"
   ]
  },
  {
   "cell_type": "markdown",
   "metadata": {},
   "source": [
    "## 调用 API\n",
    "\n",
    "- 需要设置 proxy\n",
    "- 需要 api key "
   ]
  },
  {
   "cell_type": "code",
   "execution_count": null,
   "metadata": {},
   "outputs": [],
   "source": [
    "import os\n",
    "import openai\n",
    "openai.api_key = 'XXX'\n",
    "openai.Model.list()"
   ]
  },
  {
   "cell_type": "code",
   "execution_count": null,
   "metadata": {},
   "outputs": [],
   "source": [
    "prompt = \"如何调用chatgpt接口?\"\n",
    "prompt"
   ]
  },
  {
   "cell_type": "code",
   "execution_count": null,
   "metadata": {},
   "outputs": [],
   "source": [
    "# Set up your prompt and parameters\n",
    "model = \"text-davinci-002\"\n",
    "temperature = 0.5\n",
    "max_tokens = 500\n",
    "\n",
    "# Call the API\n",
    "response = openai.Completion.create(\n",
    "    engine=model,\n",
    "    prompt=prompt,\n",
    "    temperature=temperature,\n",
    "    max_tokens=max_tokens,\n",
    ")\n",
    "\n",
    "# Print the generated text\n",
    "print(response.choices[0].text.strip())"
   ]
  },
  {
   "cell_type": "code",
   "execution_count": null,
   "metadata": {},
   "outputs": [],
   "source": []
  }
 ],
 "metadata": {
  "kernelspec": {
   "display_name": "Python 3 (ipykernel)",
   "language": "python",
   "name": "python3"
  },
  "language_info": {
   "codemirror_mode": {
    "name": "ipython",
    "version": 3
   },
   "file_extension": ".py",
   "mimetype": "text/x-python",
   "name": "python",
   "nbconvert_exporter": "python",
   "pygments_lexer": "ipython3",
   "version": "3.7.15"
  },
  "toc": {
   "base_numbering": 1,
   "nav_menu": {},
   "number_sections": true,
   "sideBar": true,
   "skip_h1_title": false,
   "title_cell": "Table of Contents",
   "title_sidebar": "Contents",
   "toc_cell": false,
   "toc_position": {},
   "toc_section_display": true,
   "toc_window_display": false
  }
 },
 "nbformat": 4,
 "nbformat_minor": 1
}
